{
 "cells": [
  {
   "cell_type": "code",
   "execution_count": 1,
   "id": "favorite-skirt",
   "metadata": {},
   "outputs": [],
   "source": [
    "#sophia walton\n",
    "#linear regression of high school data"
   ]
  },
  {
   "cell_type": "code",
   "execution_count": 2,
   "id": "damaged-christmas",
   "metadata": {},
   "outputs": [],
   "source": [
    "#import statements\n",
    "import pandas as pd\n",
    "import seaborn as sb\n",
    "import numpy as np\n",
    "import scipy as sp\n",
    "import matplotlib.pyplot as plt"
   ]
  },
  {
   "cell_type": "code",
   "execution_count": 3,
   "id": "dental-patch",
   "metadata": {},
   "outputs": [
    {
     "name": "stdout",
     "output_type": "stream",
     "text": [
      "                  school  white  black  hispanic  asian  multiple  other  \\\n",
      "0     charlottesville hs   46.4   28.6      12.7    5.6       6.6    0.1   \n",
      "1   western albemarle hs   87.0    1.8       5.1    2.4       3.6    0.2   \n",
      "2           albemarle hs   55.1   15.8      14.7    8.2       6.2    0.2   \n",
      "3     fluvanna county hs   72.5   15.1       5.8    0.4       6.0    0.2   \n",
      "4       nelson county hs   72.6   13.2       7.7    0.2       5.7    0.5   \n",
      "5      william monroe hs   71.3    7.5      10.7    2.0       8.3    0.2   \n",
      "6          monticello hs   63.5   11.2      15.3    3.1       6.8    0.1   \n",
      "7   buckingham county hs   54.5   35.4       3.3    0.5       6.3    0.0   \n",
      "8      orange county hs    68.4   13.1       9.2    0.9       7.8    0.8   \n",
      "9     culpeper county hs   58.8   11.7      22.6    2.1       4.2    0.7   \n",
      "10      eastern view hs    50.5   15.2      25.0    1.6       7.2    0.4   \n",
      "11       rappahannock hs   85.5    2.9       6.4    0.0       4.9    0.3   \n",
      "12     madison county hs   84.8    7.2       3.0    0.9       4.1    0.0   \n",
      "13         waynesboro hs   57.5   14.2      17.0    0.6      10.4    0.4   \n",
      "14           staunton hs   66.5   16.2       5.7    1.5      10.1    0.0   \n",
      "15        buffalo gap hs   95.3    0.6       2.3    0.2       1.6    0.0   \n",
      "16      fort defiance hs   86.4    1.7       8.7    1.0       1.9    0.3   \n",
      "17      stuarts draft hs   85.7    3.4       5.5    1.4       3.8    0.1   \n",
      "18    wilson memorial hs   84.6    5.1       6.5    0.6       2.6    0.6   \n",
      "19       harrisonburg hs   32.5   11.7      48.5    3.6       3.6    0.1   \n",
      "20           broadway hs   84.4    0.8      10.8    0.8       3.0    0.1   \n",
      "21    east rockingham hs   82.1    2.5       7.9    1.0       6.2    0.3   \n",
      "22          spotswood hs   68.4    2.5      21.5    3.0       4.6    0.0   \n",
      "23       turner ashby hs   77.7    3.0      15.6    1.5       1.7    0.5   \n",
      "24           highland hs   96.3    0.0       1.8    0.0       1.8    0.0   \n",
      "25        bath county hs   91.1    2.6       1.0    0.5       4.2    0.5   \n",
      "\n",
      "    free/reduced lunch  total students   black/hispanic difference  \\\n",
      "0                 43.9             1225                       15.9   \n",
      "1                 10.6             1207                       -3.3   \n",
      "2                 28.8             1950                        1.1   \n",
      "3                 31.6             1489                        9.3   \n",
      "4                 46.3              574                        5.5   \n",
      "5                 33.9              948                       -3.2   \n",
      "6                 29.7             1207                       -4.1   \n",
      "7                 54.5              573                       32.1   \n",
      "8                 38.4             1496                        3.9   \n",
      "9                 35.5             1170                      -10.9   \n",
      "10                40.6             1410                       -9.8   \n",
      "11                30.2              311                       -3.5   \n",
      "12                41.1              540                        4.2   \n",
      "13                48.4              857                       -2.8   \n",
      "14                37.9              792                       10.5   \n",
      "15                34.8              486                       -1.7   \n",
      "16                28.8              772                       -7.0   \n",
      "17                32.0              707                       -2.1   \n",
      "18                32.7              797                       -1.4   \n",
      "19                65.3             1866                      -36.8   \n",
      "20                32.8              989                      -10.0   \n",
      "21                34.7              681                       -5.4   \n",
      "22                33.7             1001                      -19.0   \n",
      "23                30.1              995                      -12.6   \n",
      "24                58.7              109                       -1.8   \n",
      "25                44.1              191                        1.6   \n",
      "\n",
      "    red cross club participants  white.1  black.1  hispanic   asian.1  \\\n",
      "0                           NaN        6        4          2        1   \n",
      "1                           NaN       11        0          1        0   \n",
      "2                           NaN       11        3          3        2   \n",
      "3                           NaN       11        2          1        0   \n",
      "4                           NaN        4        1          0        0   \n",
      "5                           NaN        7        1          1        0   \n",
      "6                           NaN        8        1          2        0   \n",
      "7                           NaN        3        2          0        0   \n",
      "8                           NaN       10        2          1        0   \n",
      "9                           NaN        7        1          3        0   \n",
      "10                          NaN        7        2          4        0   \n",
      "11                          NaN        3        0          0        0   \n",
      "12                          NaN        5        0          0        0   \n",
      "13                          NaN        5        1          1        0   \n",
      "14                          NaN        5        1          0        0   \n",
      "15                          NaN        5        0          0        0   \n",
      "16                          NaN        7        0          1        0   \n",
      "17                          NaN        6        0          0        0   \n",
      "18                          NaN        7        0          1        0   \n",
      "19                          NaN        6        2          9        1   \n",
      "20                          NaN        8        0          1        0   \n",
      "21                          NaN        6        0          1        0   \n",
      "22                          NaN        7        0          2        0   \n",
      "23                          NaN        8        0          2        0   \n",
      "24                          NaN        1        0          0        0   \n",
      "25                          NaN        2        0          0        0   \n",
      "\n",
      "    multiple.1  other.1  total club members  \n",
      "0            1        0                  12  \n",
      "1            0        0                  12  \n",
      "2            1        0                  20  \n",
      "3            1        0                  15  \n",
      "4            0        0                   6  \n",
      "5            1        0                   9  \n",
      "6            1        0                  12  \n",
      "7            0        0                   6  \n",
      "8            1        0                  15  \n",
      "9            0        0                  12  \n",
      "10           1        0                  14  \n",
      "11           0        0                   3  \n",
      "12           0        0                   5  \n",
      "13           1        0                   9  \n",
      "14           1        0                   8  \n",
      "15           0        0                   5  \n",
      "16           0        0                   8  \n",
      "17           0        0                   7  \n",
      "18           0        0                   8  \n",
      "19           1        0                  19  \n",
      "20           0        0                  10  \n",
      "21           0        0                   7  \n",
      "22           0        0                  10  \n",
      "23           0        0                  10  \n",
      "24           0        0                   1  \n",
      "25           0        0                   2  \n"
     ]
    }
   ],
   "source": [
    "hsdata = pd.read_csv('/Users/sophiawalton/Downloads/hs_dem_data - school numbers data.csv')\n",
    "hsframe = pd.DataFrame(hsdata)\n",
    "print(hsframe)"
   ]
  },
  {
   "cell_type": "code",
   "execution_count": 4,
   "id": "hundred-rough",
   "metadata": {},
   "outputs": [],
   "source": [
    "#classify for different colors as reference:\n",
    "#1: over 70% white\n",
    "#2: less than 70 percent white and black greater than hispanic\n",
    "#3: less than 70 percent white and hispanic greater than black\n",
    "classifications = []\n",
    "for index, row in hsframe.iterrows():\n",
    "    if row['white'] > 70:\n",
    "        classifications.append(1)\n",
    "    elif row['black/hispanic difference'] >=0:\n",
    "        classifications.append(2)\n",
    "    else:\n",
    "        classifications.append(3)"
   ]
  },
  {
   "cell_type": "code",
   "execution_count": 5,
   "id": "iraqi-genre",
   "metadata": {},
   "outputs": [],
   "source": [
    "#add classifications to the dataframe\n",
    "hsframe['classifications']=classifications\n",
    "white=hsframe.groupby('classifications').get_group(1)\n",
    "black=hsframe.groupby('classifications').get_group(2)\n",
    "hispanic=hsframe.groupby('classifications').get_group(3)"
   ]
  },
  {
   "cell_type": "code",
   "execution_count": 6,
   "id": "undefined-board",
   "metadata": {},
   "outputs": [],
   "source": [
    "from sklearn.linear_model import LinearRegression"
   ]
  },
  {
   "cell_type": "code",
   "execution_count": 7,
   "id": "black-trash",
   "metadata": {},
   "outputs": [],
   "source": [
    "#assign column values for linear regression\n",
    "x_column = hsframe.loc[:,'white']\n",
    "x = x_column.values\n",
    "x=x.reshape(-1, 1)\n",
    "y_column = hsframe.loc[:, 'free/reduced lunch']\n",
    "y = y_column.values\n",
    "y= y.reshape(-1, 1)"
   ]
  },
  {
   "cell_type": "code",
   "execution_count": 8,
   "id": "uniform-sleeping",
   "metadata": {},
   "outputs": [
    {
     "name": "stdout",
     "output_type": "stream",
     "text": [
      "0.16053096093557473\n"
     ]
    }
   ],
   "source": [
    "reg = LinearRegression().fit(x, y)\n",
    "print(reg.score(x,y))\n",
    "m = reg.coef_\n",
    "b = reg.intercept_"
   ]
  },
  {
   "cell_type": "code",
   "execution_count": 9,
   "id": "played-bicycle",
   "metadata": {},
   "outputs": [
    {
     "data": {
      "image/png": "[encoded data removed]",
      "text/plain": [
       "<Figure size 720x432 with 1 Axes>"
      ]
     },
     "metadata": {
      "needs_background": "light"
     },
     "output_type": "display_data"
    }
   ],
   "source": [
    "#sort by classification and put into a dot plot\n",
    "\n",
    "fig, hsdatascatter = plt.subplots(figsize=(10, 6))\n",
    "\n",
    "hsdatascatter.scatter(x = black['white'], y = black['free/reduced lunch'], color ='red')\n",
    "hsdatascatter.scatter(x = white['white'], y = white['free/reduced lunch'], color ='blue')\n",
    "hsdatascatter.scatter(x = hispanic['white'], y = hispanic['free/reduced lunch'], color ='green')\n",
    "plt.plot(x, m*x + b)\n",
    "plt.xlabel(\"percent of school that identifies as white\")\n",
    "plt.ylabel(\"percent of students on free and reduced lunch\")\n",
    "plt.title(\"Correlation between free and reduced lunch and Race\")\n",
    "\n",
    "plt.show()"
   ]
  },
  {
   "cell_type": "code",
   "execution_count": null,
   "id": "painted-school",
   "metadata": {},
   "outputs": [],
   "source": []
  }
 ],
 "metadata": {
  "kernelspec": {
   "display_name": "Python 3",
   "language": "python",
   "name": "python3"
  },
  "language_info": {
   "codemirror_mode": {
    "name": "ipython",
    "version": 3
   },
   "file_extension": ".py",
   "mimetype": "text/x-python",
   "name": "python",
   "nbconvert_exporter": "python",
   "pygments_lexer": "ipython3",
   "version": "3.9.0"
  }
 },
 "nbformat": 4,
 "nbformat_minor": 5
}
