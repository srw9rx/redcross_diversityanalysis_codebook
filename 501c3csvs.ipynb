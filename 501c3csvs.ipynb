{
 "cells": [
  {
   "cell_type": "code",
   "execution_count": 1,
   "id": "daily-yesterday",
   "metadata": {},
   "outputs": [],
   "source": [
    "import pandas"
   ]
  },
  {
   "cell_type": "code",
   "execution_count": 2,
   "id": "sapphire-boundary",
   "metadata": {},
   "outputs": [],
   "source": [
    "cville = pandas.read_csv('/Users/sophiawalton/Downloads/data-download-pub78.csv', sep = '|', index_col=None, names = ['code', 'name', 'city', 'state', 'country', 'classification'])"
   ]
  },
  {
   "cell_type": "code",
   "execution_count": 3,
   "id": "corrected-frederick",
   "metadata": {},
   "outputs": [],
   "source": [
    "cvilleonly = cville.groupby('city').get_group('Charlottesville')"
   ]
  },
  {
   "cell_type": "code",
   "execution_count": 4,
   "id": "affiliated-heart",
   "metadata": {},
   "outputs": [
    {
     "name": "stdout",
     "output_type": "stream",
     "text": [
      "              code                                               name  \\\n",
      "42207     66444469               The Tyler L Rigg Memorial Foundation   \n",
      "57993    133097502      Joseph and Robert Cornell Memorial Foundation   \n",
      "58776    133221863  Montessori Accreditation Council for Teacher E...   \n",
      "59650    133381821                  Dave H & Reba Williams Foundation   \n",
      "60399    133498743                Philip Devon Family Foundation Inc.   \n",
      "...            ...                                                ...   \n",
      "1049844  843235399                                    Basics for Kids   \n",
      "1056261  843643390               Institute for American Media Studies   \n",
      "1093552  851830210     Africans United Communities of Charlottesville   \n",
      "1094898  852007784   Walker Buford United Parent Teacher Organization   \n",
      "1103229  853008335  Organization for Aet of Brazzaville Residing A...   \n",
      "\n",
      "                    city state        country classification  \n",
      "42207    Charlottesville    VA  United States             PF  \n",
      "57993    Charlottesville    VA  United States             PF  \n",
      "58776    Charlottesville    VA  United States             PC  \n",
      "59650    Charlottesville    VA  United States             PF  \n",
      "60399    Charlottesville    VA  United States             PF  \n",
      "...                  ...   ...            ...            ...  \n",
      "1049844  Charlottesville    VA  United States             PC  \n",
      "1056261  Charlottesville    VA  United States             PC  \n",
      "1093552  Charlottesville    VA  United States             PC  \n",
      "1094898  Charlottesville    VA  United States             PC  \n",
      "1103229  Charlottesville    VA  United States             PC  \n",
      "\n",
      "[111 rows x 6 columns]\n"
     ]
    }
   ],
   "source": [
    "print(cvilleonly)"
   ]
  },
  {
   "cell_type": "code",
   "execution_count": 8,
   "id": "addressed-hawaiian",
   "metadata": {},
   "outputs": [],
   "source": [
    "cvilleonly.to_csv(r'/Users/sophiawalton/Documents\\cville501c3.csv')"
   ]
  },
  {
   "cell_type": "code",
   "execution_count": 9,
   "id": "temporal-pepper",
   "metadata": {},
   "outputs": [],
   "source": [
    "virginia = cville.groupby('state').get_group('VA')\n",
    "virginia.to_csv(r'/Users/sophiawalton/Documents\\va501c3.csv')"
   ]
  },
  {
   "cell_type": "code",
   "execution_count": 15,
   "id": "radio-handy",
   "metadata": {},
   "outputs": [],
   "source": [
    "wrong = virginia.groupby('city').get_group('Charlottesvle')\n",
    "right = virginia.groupby('city').get_group('Charlottesville')"
   ]
  },
  {
   "cell_type": "code",
   "execution_count": 17,
   "id": "eleven-shape",
   "metadata": {},
   "outputs": [
    {
     "name": "stdout",
     "output_type": "stream",
     "text": [
      "              code                                               name  \\\n",
      "2629      10582163                               Tibetan Healing Fund   \n",
      "5862      10909935                 Charlottesville Area Tree Stewards   \n",
      "9683      20600697                                   Angioma Alliance   \n",
      "9949      20629784        Albemarle County Sheriffs Office Foundation   \n",
      "14418     30433415                   Sunny Days Charitable Foundation   \n",
      "...            ...                                                ...   \n",
      "1049844  843235399                                    Basics for Kids   \n",
      "1056261  843643390               Institute for American Media Studies   \n",
      "1093552  851830210     Africans United Communities of Charlottesville   \n",
      "1094898  852007784   Walker Buford United Parent Teacher Organization   \n",
      "1103229  853008335  Organization for Aet of Brazzaville Residing A...   \n",
      "\n",
      "                    city state        country classification  \n",
      "2629       Charlottesvle    VA  United States             PC  \n",
      "5862       Charlottesvle    VA  United States             PC  \n",
      "9683       Charlottesvle    VA  United States             PC  \n",
      "9949       Charlottesvle    VA  United States             PC  \n",
      "14418      Charlottesvle    VA  United States             PF  \n",
      "...                  ...   ...            ...            ...  \n",
      "1049844  Charlottesville    VA  United States             PC  \n",
      "1056261  Charlottesville    VA  United States             PC  \n",
      "1093552  Charlottesville    VA  United States             PC  \n",
      "1094898  Charlottesville    VA  United States             PC  \n",
      "1103229  Charlottesville    VA  United States             PC  \n",
      "\n",
      "[825 rows x 6 columns]\n"
     ]
    }
   ],
   "source": [
    "allcville = pandas.concat([wrong, right])\n",
    "print(allcville)"
   ]
  },
  {
   "cell_type": "code",
   "execution_count": 18,
   "id": "saved-merchant",
   "metadata": {},
   "outputs": [],
   "source": [
    "allcville.to_csv(r'/Users/sophiawalton/Documents\\cvilleall501c3.csv')"
   ]
  },
  {
   "cell_type": "code",
   "execution_count": null,
   "id": "artistic-bacteria",
   "metadata": {},
   "outputs": [],
   "source": []
  }
 ],
 "metadata": {
  "kernelspec": {
   "display_name": "Python 3",
   "language": "python",
   "name": "python3"
  },
  "language_info": {
   "codemirror_mode": {
    "name": "ipython",
    "version": 3
   },
   "file_extension": ".py",
   "mimetype": "text/x-python",
   "name": "python",
   "nbconvert_exporter": "python",
   "pygments_lexer": "ipython3",
   "version": "3.9.0"
  }
 },
 "nbformat": 4,
 "nbformat_minor": 5
}
